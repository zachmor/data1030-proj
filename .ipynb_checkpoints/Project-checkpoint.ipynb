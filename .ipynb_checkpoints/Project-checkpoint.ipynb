{
 "cells": [
  {
   "cell_type": "markdown",
   "id": "65ba4539-57ec-4458-94ca-d3d7e057e733",
   "metadata": {},
   "source": [
    "***Predicting MSFT Stock Price Inefficiencies***\n",
    "\n",
    "I want to predict if MSFT is undervalued, overvalued, efficient or volatile, specifically:\n",
    "\n",
    "Undervalued, if at a given time if before the end of the following week it sustains a price 3% higher for at least 2 days  \n",
    "\n",
    "Overvalued, if at a given time if before the end of the following week it sustains a price 3% lower for at least 2 days  \n",
    "\n",
    "Efficient, if it's not undervalued or overvalued\n",
    "\n",
    "Volatile, if it's undervalued and overvalued\n",
    "\n",
    "This information would be helpful for option trading strategies because contracts are priced at a premium above the current price and so if it can be deduced that the premium is less than what it will be at, the value of the contract can be better assessed. "
   ]
  },
  {
   "cell_type": "markdown",
   "id": "c278f5c3-8c64-4146-8171-a4e282fb5345",
   "metadata": {},
   "source": [
    "**Reading in the Features**\n",
    "\n",
    "The data folder contains a file MSFT.csv with timeseries MSFT stock market trading data"
   ]
  },
  {
   "cell_type": "code",
   "execution_count": 4,
   "id": "5b304765-1770-4909-acaa-ca936f752680",
   "metadata": {},
   "outputs": [
    {
     "name": "stdout",
     "output_type": "stream",
     "text": [
      "                     Unnamed: 0    open    high     low   close  volume\n",
      "time                                                                   \n",
      "2022-10-20 20:00:00           0  235.40  235.40  234.75  234.75    1926\n",
      "2022-10-20 19:56:00           1  234.75  234.80  234.75  234.80    3119\n",
      "2022-10-20 19:55:00           2  234.75  234.75  234.75  234.75    1109\n",
      "2022-10-20 19:54:00           3  234.74  234.74  234.74  234.74     293\n",
      "2022-10-20 19:53:00           4  234.57  234.57  234.57  234.57     270\n"
     ]
    }
   ],
   "source": [
    "import pandas as pd\n",
    "\n",
    "df = pd.read_csv('data/alpha/MSFT.csv', index_col='time')\n",
    "\n",
    "print(df.head())"
   ]
  },
  {
   "cell_type": "markdown",
   "id": "4a75ba07-a59a-44c2-bcd3-22ad0b69fafa",
   "metadata": {},
   "source": [
    "Each record contains the time, high, low, open, close, and volume for the *1 minute* period, where:\n",
    "\n",
    "Time is the period's start time\n",
    "\n",
    "High is the period's highest traded stock price\n",
    "\n",
    "Low is the period's lowest traded stock price\n",
    "\n",
    "Open is the period's first traded stock price\n",
    "\n",
    "Close is the period's last traded stock price \n",
    "\n",
    "Volume is how many shares were traded\n",
    "\n",
    "These can be well visualized with a candelstick chart:"
   ]
  },
  {
   "cell_type": "code",
   "execution_count": null,
   "id": "8e77ed28-cb03-41f6-bb16-b0a01275d6a6",
   "metadata": {},
   "outputs": [],
   "source": []
  }
 ],
 "metadata": {
  "kernelspec": {
   "display_name": "Python 3 (ipykernel)",
   "language": "python",
   "name": "python3"
  },
  "language_info": {
   "codemirror_mode": {
    "name": "ipython",
    "version": 3
   },
   "file_extension": ".py",
   "mimetype": "text/x-python",
   "name": "python",
   "nbconvert_exporter": "python",
   "pygments_lexer": "ipython3",
   "version": "3.10.5"
  }
 },
 "nbformat": 4,
 "nbformat_minor": 5
}
